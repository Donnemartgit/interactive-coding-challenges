{
 "cells": [
  {
   "cell_type": "markdown",
   "metadata": {},
   "source": [
    "<small><i> This notebook was prepared by [Marco Guajardo] Source and license info is on [GitHub](https://github.com/donnemartin/interactive-coding-challenges).</i></small>"
   ]
  },
  {
   "cell_type": "markdown",
   "metadata": {},
   "source": [
    "#Problem: Check if linked list is sorted in ascending order\n",
    "* [Constraint](#Constraints) \n",
    "* [Test Cases](#Test-Cases) \n",
    "* [Algorithm](#Algorithm)\n",
    "* [Code](#code)\n",
    "* [Unit Test](#Unit-Test)\n",
    "* [Solution Notebook](#Solution-Notebook)\n"
   ]
  },
  {
   "cell_type": "markdown",
   "metadata": {},
   "source": [
    "## Constraints\n",
    "\n",
    "* Is this a singly or doubly linked list?\n",
    "    * Singly\n",
    "* Can you insert None values in the list?\n",
    "    * No\n",
    "* Can you use additional data structures?\n",
    "    * Implement both solutions\n",
    "* Can we assume we already have a linked list class that can be used for this problem?\n",
    "    * Yes"
   ]
  },
  {
   "cell_type": "markdown",
   "metadata": {},
   "source": [
    "## Test Cases\n",
    "\n",
    "* Empty linked list should return None\n",
    "* Sorted in ascending order"
   ]
  },
  {
   "cell_type": "markdown",
   "metadata": {},
   "source": [
    "## Algorithm\n",
    "\n",
    "Refer to the [Solution Notebook](http://nbviewer.ipython.org/github/donnemartin/interactive-coding-challenges/blob/master/linked_lists/is_sorted/is_sorted_solution.ipynb). If you are stuck and need a hint, the solution notebook's algorithm discussion might be a good place to start."
   ]
  },
  {
   "cell_type": "markdown",
   "metadata": {},
   "source": [
    "##Code"
   ]
  },
  {
   "cell_type": "code",
   "execution_count": 2,
   "metadata": {
    "collapsed": true
   },
   "outputs": [],
   "source": [
    "%run ../linked_list/linked_list.py\n",
    "%load ../linked_list/linked_list.py"
   ]
  },
  {
   "cell_type": "code",
   "execution_count": 3,
   "metadata": {
    "collapsed": true
   },
   "outputs": [],
   "source": [
    "class MyLinkedList (object):\n",
    "    def is_sorted(self):\n",
    "        #TODO: implement me\n",
    "        pass"
   ]
  },
  {
   "cell_type": "markdown",
   "metadata": {},
   "source": [
    "## Unit Test"
   ]
  },
  {
   "cell_type": "markdown",
   "metadata": {},
   "source": [
    "**The following unit test is expected to fail until you solve the challenge.**"
   ]
  },
  {
   "cell_type": "code",
   "execution_count": 8,
   "metadata": {
    "collapsed": false
   },
   "outputs": [
    {
     "name": "stdout",
     "output_type": "stream",
     "text": [
      "failed test\n"
     ]
    }
   ],
   "source": [
    "class TestSorted (object):\n",
    "\n",
    "    def test_sorted(self):\n",
    "\n",
    "        try:\n",
    "            list_test1 = MyLinkedList()\n",
    "            list_test1.append(1)\n",
    "            list_test1.append(5)\n",
    "            list_test1.append(8)\n",
    "            list_test1.append(10)\n",
    "            assert list_test1.is_sorted() == True\n",
    "\n",
    "            list_test2 = MyLinkedList()\n",
    "            list_test2.append(100)\n",
    "            list_test2.append(21)\n",
    "            list_test2.append(55)\n",
    "            list_test2.append(82)\n",
    "            assert list_test2.is_sorted() == False\n",
    "\n",
    "            list_test3 = MyLinkedList()\n",
    "            assert list_test3.is_sorted() == None\n",
    "            print('success: is_sorted')\n",
    "        except:\n",
    "            print('failed test')\n",
    "\n",
    "\n",
    "def Main():\n",
    "    test = TestSorted()\n",
    "    test.test_sorted()\n",
    "\n",
    "if __name__ == '__main__':\n",
    "    Main()"
   ]
  },
  {
   "cell_type": "markdown",
   "metadata": {},
   "source": [
    "## Solution Notebook\n",
    "Review the [Solution Notebook](http://nbviewer.ipython.org/github/donnemartin/interactive-coding-challenges/blob/master/linked_lists/is_sorted/is_sorted_solution.ipynb) for a discussion on algorithms and code solutions."
   ]
  }
 ],
 "metadata": {
  "kernelspec": {
   "display_name": "Python 3",
   "language": "python",
   "name": "python3"
  },
  "language_info": {
   "codemirror_mode": {
    "name": "ipython",
    "version": 3
   },
   "file_extension": ".py",
   "mimetype": "text/x-python",
   "name": "python",
   "nbconvert_exporter": "python",
   "pygments_lexer": "ipython3",
   "version": "3.4.3"
  }
 },
 "nbformat": 4,
 "nbformat_minor": 0
}
