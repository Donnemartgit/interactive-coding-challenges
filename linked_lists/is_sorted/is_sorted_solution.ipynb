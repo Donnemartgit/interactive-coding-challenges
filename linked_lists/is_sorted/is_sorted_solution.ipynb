{
 "cells": [
  {
   "cell_type": "markdown",
   "metadata": {},
   "source": [
    "<small><i>This notebook was prepared by [Marco Guajardo]. Source and license info is on [GitHub](https://github.com/donnemartin/interactive-coding-challenges).</i></small>"
   ]
  },
  {
   "cell_type": "markdown",
   "metadata": {},
   "source": [
    "# Solution Notebook"
   ]
  },
  {
   "cell_type": "markdown",
   "metadata": {},
   "source": [
    "## Problem: Remove duplicates from a linked list\n",
    "\n",
    "* [Constraints](#Constraints)\n",
    "* [Test Cases](#Test-Cases)\n",
    "* [Algorithm: Basic Sequential Search](#Sequential-Search)\n",
    "* [Algorithm: In-Place](#Algorithm:-In-Place)\n",
    "* [Code](#Code)\n",
    "* [Unit Test](#Unit-Test)"
   ]
  },
  {
   "cell_type": "markdown",
   "metadata": {},
   "source": [
    "## Constraints\n",
    "\n",
    "* Is this a singly or doubly linked list?\n",
    "    * Singly\n",
    "* Can you insert None values in the list?\n",
    "    * No\n",
    "* Can you use additional data structures?\n",
    "    * Implement both solutions\n",
    "* Can we assume we already have a linked list class that can be used for this problem?\n",
    "    * Yes"
   ]
  },
  {
   "cell_type": "markdown",
   "metadata": {},
   "source": [
    "## Test Cases\n",
    "\n",
    "* Empty linked list should return None\n",
    "* Sorted in ascending order"
   ]
  },
  {
   "cell_type": "markdown",
   "metadata": {},
   "source": [
    "## Algorithm\n",
    "* Sequential search\n",
    "    * If at any point the next node has a lower value than the current node\n",
    "        * return False\n",
    "    * Else\n",
    "        * return true\n",
    "\n",
    "Complexity:\n",
    "* Time: O(n)\n",
    "* Space: O(n)\n"
   ]
  },
  {
   "cell_type": "code",
   "execution_count": null,
   "metadata": {
    "collapsed": true
   },
   "outputs": [],
   "source": [
    "%run ../linked_list/linked_list.py\n",
    "%load ../linked_list/linked_list.py"
   ]
  },
  {
   "cell_type": "code",
   "execution_count": 16,
   "metadata": {
    "collapsed": false
   },
   "outputs": [],
   "source": [
    "class MyLinkedList(LinkedList):\n",
    "\n",
    "    def is_sorted(self):\n",
    "        if self.head is None:\n",
    "            return\n",
    "        current = self.head\n",
    "        while current.next is not None:\n",
    "            if current.data > current.next.data:\n",
    "                return False\n",
    "            current = current.next\n",
    "\n",
    "        return True"
   ]
  },
  {
   "cell_type": "markdown",
   "metadata": {},
   "source": [
    "## Unit Test"
   ]
  },
  {
   "cell_type": "code",
   "execution_count": 20,
   "metadata": {
    "collapsed": false
   },
   "outputs": [
    {
     "name": "stdout",
     "output_type": "stream",
     "text": [
      "Writing test_is_sorted.py\n"
     ]
    }
   ],
   "source": [
    "%%writefile test_is_sorted.py\n",
    "\n",
    "class TestSorted (object):\n",
    "\n",
    "    def test_sorted(self):\n",
    "\n",
    "        try:\n",
    "            list_test1 = MyLinkedList()\n",
    "            list_test1.append(1)\n",
    "            list_test1.append(5)\n",
    "            list_test1.append(8)\n",
    "            list_test1.append(10)\n",
    "            assert list_test1.is_sorted() == True\n",
    "            \n",
    "            list_test2 = MyLinkedList()\n",
    "            list_test2.append(100)\n",
    "            list_test2.append(21)\n",
    "            list_test2.append(55)\n",
    "            list_test2.append(82)\n",
    "            assert list_test2.is_sorted() == False\n",
    "            \n",
    "            list_test3 = MyLinkedList()\n",
    "            assert list_test3.is_sorted() == None\n",
    "            print('success: is_sorted')\n",
    "        except:\n",
    "            print('failed test')\n",
    "\n",
    "\n",
    "def Main():\n",
    "    test = TestSorted()\n",
    "    test.test_sorted()\n",
    "\n",
    "if __name__ == '__main__':\n",
    "    Main()"
   ]
  },
  {
   "cell_type": "code",
   "execution_count": 21,
   "metadata": {
    "collapsed": false
   },
   "outputs": [
    {
     "name": "stdout",
     "output_type": "stream",
     "text": [
      "success: is_sorted\n"
     ]
    }
   ],
   "source": [
    "run -i test_is_sorted.py"
   ]
  }
 ],
 "metadata": {
  "kernelspec": {
   "display_name": "Python 3",
   "language": "python",
   "name": "python3"
  },
  "language_info": {
   "codemirror_mode": {
    "name": "ipython",
    "version": 3
   },
   "file_extension": ".py",
   "mimetype": "text/x-python",
   "name": "python",
   "nbconvert_exporter": "python",
   "pygments_lexer": "ipython3",
   "version": "3.4.3"
  }
 },
 "nbformat": 4,
 "nbformat_minor": 0
}
