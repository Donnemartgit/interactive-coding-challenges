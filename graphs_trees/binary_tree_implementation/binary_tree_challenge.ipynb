{
 "cells": [
  {
   "cell_type": "markdown",
   "metadata": {},
   "source": [
    "<small><i>This notebook was prepared by Marco Guajardo. Source and license info is on [GitHub](https://github.com/donnemartin/interactive-coding-challenges).</i></small>"
   ]
  },
  {
   "cell_type": "markdown",
   "metadata": {},
   "source": [
    "# Challenge Notebook"
   ]
  },
  {
   "cell_type": "markdown",
   "metadata": {},
   "source": [
    "## Problem: Implement a binary search tree with insert, delete, different traversals & max/min node values\n",
    "* [Constraints](#Constraints)\n",
    "* [Test Cases](#Test-Cases)\n",
    "* [Algorithm](#Algorithm)\n",
    "* [Code](#Code)\n",
    "* [Unit Test](#Unit-Test)\n",
    "* [Solution Notebook](#Solution-Notebook)"
   ]
  },
  {
   "cell_type": "markdown",
   "metadata": {},
   "source": [
    "## Constraints\n",
    "* this is a binary search tree\n",
    "* every parent has at most two children"
   ]
  },
  {
   "cell_type": "markdown",
   "metadata": {},
   "source": [
    "## Test Cases\n",
    "\n",
    "### Insert \n",
    "\n",
    "* Always start with the root\n",
    "* If value is less than the root, go to the left child\n",
    "* if value is more than the root, go to the right child\n",
    "\n",
    "\n",
    "### Delete\n",
    "\n",
    "* Deleting a node from a binary tree is tricky. Make sure you arrange the tree correctly when deleting a node.\n",
    "* Here are some basic [instructions](http://www.algolist.net/Data_structures/Binary_search_tree/Removal)\n",
    "\n",
    "\n",
    "### Traverals \n",
    "\n",
    "* in order traversal -left, center, right\n",
    "* pre order traversal - center, left, right\n",
    "* post order traversal - left, right, center\n",
    "* return list for all traverals \n",
    "\n",
    "### Max & Min\n",
    "* find the max node in the binary search tree\n",
    "* find the min node in the binary search tree\n",
    "\n",
    "\n",
    "\n",
    "## Algorithm\n",
    "\n",
    "Refer to the [Solution Notebook](http://nbviewer.ipython.org/github/donnemartin/interactive-coding-challenges/blob/master/graphs_trees/binary_tree_implementation/binary_tree_solution.ipynb).  If you are stuck and need a hint, the solution notebook's algorithm discussion might be a good place to start."
   ]
  },
  {
   "cell_type": "markdown",
   "metadata": {},
   "source": [
    "## Code"
   ]
  },
  {
   "cell_type": "code",
   "execution_count": null,
   "metadata": {
    "collapsed": true
   },
   "outputs": [],
   "source": [
    "class Node (object):\n",
    "    def __init__ (self, data=None):\n",
    "        #TODO:implement me\n",
    "        pass\n",
    "    \n",
    "    def __str__ (self):\n",
    "        #TODO:implement me\n",
    "        pass"
   ]
  },
  {
   "cell_type": "code",
   "execution_count": null,
   "metadata": {
    "collapsed": true
   },
   "outputs": [],
   "source": [
    "class BinaryTree (object):\n",
    "    def __init__ (self):\n",
    "        #TODO:implement me\n",
    "        pass\n",
    "    \n",
    "    def insert (self, newData):\n",
    "        #TODO:implement me\n",
    "        pass\n",
    "    \n",
    "    def delete (self, key):\n",
    "        #TODO:implement me\n",
    "        pass\n",
    "    \n",
    "    def maxNode (self):\n",
    "        #TODO:implement me\n",
    "        pass\n",
    "    \n",
    "    def minNode (self):\n",
    "        #TODO:implement me\n",
    "        pass\n",
    "    \n",
    "    def printPostOrder (self):\n",
    "        #TODO:implement me\n",
    "        pass\n",
    "    \n",
    "    def printPreOrder (self):\n",
    "        #TODO:implement me\n",
    "        pass\n",
    "    \n",
    "    def printInOrder (self):\n",
    "        #TODO:implement me\n",
    "        pass\n",
    "    \n"
   ]
  },
  {
   "cell_type": "markdown",
   "metadata": {},
   "source": [
    "## Unit Test"
   ]
  },
  {
   "cell_type": "markdown",
   "metadata": {},
   "source": [
    "**The following unit test is expected to fail until you solve the challenge.**"
   ]
  },
  {
   "cell_type": "code",
   "execution_count": 4,
   "metadata": {
    "collapsed": false
   },
   "outputs": [],
   "source": [
    "class TestTree(object):\n",
    "    \n",
    "    def testAllTree (self):\n",
    "        myTree = BinaryTree()\n",
    "        myTree2 = BinaryTree()\n",
    "        for num in [50, 30, 70, 10, 40, 60, 80, 7, 25, 38]:\n",
    "            myTree.insert(num)\n",
    "        for i in range (1, 100, 10):\n",
    "            myTree2.insert(i)\n",
    "        \n",
    "        try:\n",
    "            print(\"Test: insert with the inOrder, postOrder, and preOrder function\")\n",
    "            assert myTree.printInOrder == [7, 10, 25, 30, 38, 40, 50, 60, 70, 80]\n",
    "            assert MyTree2.printInOrder == [1, 11, 21, 31, 41, 51, 61, 71, 81, 91]\n",
    "            assert MyTree.printPreOrder == [50, 30, 10, 7, 25, 40, 38, 70, 60, 80]\n",
    "            assert MyTree2.printPreOrder == [1, 11, 21, 31, 41, 51, 61, 71, 81, 91]\n",
    "            assert MyTree.printPostOrder == [7, 25, 10, 38, 40, 30, 60, 80, 70, 50]\n",
    "            assert MyTree2.printPostOrder == [91, 81, 71, 61, 51, 41, 31, 21, 11, 1]\n",
    "            print(\"Success: insert, inOrder, postOrder, and preOrder\")\n",
    "        except:\n",
    "            print(\"Test failed\")\n",
    "            \n",
    "        try:\n",
    "            print(\"Test: max and min nodes\")\n",
    "            assert myTree.maxNode() == 80\n",
    "            assert myTree.minNode() == 7\n",
    "            assert myTree2.maxNode() == 91\n",
    "            assert myTree2.minNode == 1\n",
    "            print(\"Success: max and min nodes\")\n",
    "        except:\n",
    "            print(\"Test failed\")\n",
    "            \n",
    "        try:\n",
    "            print(\"Test: delete\")\n",
    "            myTree.delete(7)\n",
    "            assert myTree.printPreOrder() == [50, 30, 10, 25, 40, 38, 70, 60, 80]\n",
    "            myTree.delete(25)\n",
    "            assert myTree.printPostOrder() == [10, 38, 40, 30, 60, 80, 70, 50]\n",
    "            myTree2.delete(31)\n",
    "            assert myTree2.printInOrder() == [1, 11, 21, 41, 51, 61, 71, 81, 91]\n",
    "            myTree2.delete(91)\n",
    "            assert myTree2.printPostOrder() == [81, 71, 61, 51, 41, 21, 11, 1]\n",
    "            print(\"Success: insert\")\n",
    "        except:\n",
    "            print(\"Test failed\")\n",
    "            \n",
    "def main():\n",
    "    testing = TestTree()\n",
    "    testing.testAllTree()\n",
    "    \n",
    "if __name__=='__main__':\n",
    "    main()\n",
    "        "
   ]
  },
  {
   "cell_type": "markdown",
   "metadata": {},
   "source": [
    "## Solution NoteBook\n",
    "\n",
    "Review the [Solution Notebook](http://nbviewer.ipython.org/github/donnemartin/interactive-coding-challenges/blob/master/graphs_trees/binary_tree_implementation/binary_tree_solution.ipynb) for a discussion on algorithms and code solutions."
   ]
  }
 ],
 "metadata": {
  "kernelspec": {
   "display_name": "Python 3",
   "language": "python",
   "name": "python3"
  },
  "language_info": {
   "codemirror_mode": {
    "name": "ipython",
    "version": 3
   },
   "file_extension": ".py",
   "mimetype": "text/x-python",
   "name": "python",
   "nbconvert_exporter": "python",
   "pygments_lexer": "ipython3",
   "version": "3.4.3"
  }
 },
 "nbformat": 4,
 "nbformat_minor": 0
}
