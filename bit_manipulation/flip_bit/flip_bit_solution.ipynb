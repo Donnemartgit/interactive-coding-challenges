{
 "cells": [
  {
   "cell_type": "markdown",
   "metadata": {},
   "source": [
    "This notebook was prepared by [Donne Martin](https://github.com/donnemartin). Source and license info is on [GitHub](https://github.com/donnemartin/interactive-coding-challenges)."
   ]
  },
  {
   "cell_type": "markdown",
   "metadata": {},
   "source": [
    "# Solution Notebook"
   ]
  },
  {
   "cell_type": "markdown",
   "metadata": {},
   "source": [
    "## Problem: Flip one bit from 0 to 1 to maximize the longest sequence of 1s.\n",
    "\n",
    "* [Constraints](#Constraints)\n",
    "* [Test Cases](#Test-Cases)\n",
    "* [Algorithm](#Algorithm)\n",
    "* [Code](#Code)\n",
    "* [Unit Test](#Unit-Test)"
   ]
  },
  {
   "cell_type": "markdown",
   "metadata": {},
   "source": [
    "## Constraints\n",
    "\n",
    "* Is the input an int, base 2?\n",
    "    * Yes\n",
    "* Can we assume the input is a 32 bit number?\n",
    "    * Yes\n",
    "* Do we have to validate the length of the input?\n",
    "    * No\n",
    "* Is the output an int?\n",
    "    * Yes\n",
    "* Can we assume the inputs are valid?\n",
    "    * No\n",
    "* Can we assume we are using a positive number since Python doesn't have an >>> operator?\n",
    "    * Yes\n",
    "* Can we assume this fits memory?\n",
    "    * Yes"
   ]
  },
  {
   "cell_type": "markdown",
   "metadata": {},
   "source": [
    "## Test Cases\n",
    "\n",
    "* None -> Exception\n",
    "* All 1's -> Count of 1s\n",
    "* All 0's -> 1\n",
    "* General case\n",
    "    * Trailing zeroes\n",
    "        * 0000 1111 1101 1101 1111 0011 1111 0000 -> 10 (ten)\n",
    "    * Trailing ones\n",
    "        * 0000 1001 1101 1101 1111 0001 1111 0111 -> 9"
   ]
  },
  {
   "cell_type": "markdown",
   "metadata": {},
   "source": [
    "## Algorithm\n",
    "\n",
    "* seen = []\n",
    "* Build a list of sequence counts\n",
    "    * Look for 0's\n",
    "        * This will be 0 length if the input has trailing ones\n",
    "        * Add sequence length to seen\n",
    "    * Look for 1's\n",
    "        * Add sequence length to seen\n",
    "* Find the largest sequence of ones looking at seen\n",
    "    * Loop through seen\n",
    "        * On each iteration of the loop, flip what we are looking for from 0 to 1 and vice versa\n",
    "        * If seen[i] represents 1's, continue, we only want to process 0's\n",
    "        * If this is our first iteration:\n",
    "            * max_result = seen[i+1] + 1 if seen[i] > 0\n",
    "            * continue\n",
    "        * If we are looking at leading zeroes (i == len(seen)-1):\n",
    "            * result = seen[i-1] + 1\n",
    "        * If we are looking at one zero:\n",
    "            * result = seen[i+1] + seen[i-1] + 1\n",
    "        * If we are looking at multiple zeroes:\n",
    "            * result = max(seen[i+1], seen[i-1]) + 1\n",
    "        * Update max_result based on result\n",
    "\n",
    "We should make a note that Python does not have a logical right shift operator built in.  We can either use a positive number or implement one for a 32 bit number:\n",
    "\n",
    "    num % 0x100000000 >> n\n",
    "    \n",
    "Complexity:\n",
    "* Time: O(b)\n",
    "* Space: O(b)"
   ]
  },
  {
   "cell_type": "markdown",
   "metadata": {},
   "source": [
    "## Code"
   ]
  },
  {
   "cell_type": "code",
   "execution_count": 1,
   "metadata": {
    "collapsed": false
   },
   "outputs": [],
   "source": [
    "class Bits(object):\n",
    "    MAX_BITS = 32\n",
    "    \n",
    "    def flip_bit(self, num):\n",
    "        if num is None:\n",
    "            raise TypeError\n",
    "        run1 = 0\n",
    "        run2 = 0\n",
    "        best = 0\n",
    "        \n",
    "        as_bin = format(num if num >= 0 else (1 << 32) + num, '032b')\n",
    "            \n",
    "        for c in as_bin:\n",
    "            if c == '1':\n",
    "                run1 += 1\n",
    "                run2 += 1\n",
    "            else:\n",
    "                if run2 > best:\n",
    "                    best = run2\n",
    "                run2 = run1 + 1\n",
    "                run1 = 0\n",
    "        return max(run2, best)\n",
    "    "
   ]
  },
  {
   "cell_type": "markdown",
   "metadata": {},
   "source": [
    "## Unit Test"
   ]
  },
  {
   "cell_type": "code",
   "execution_count": 2,
   "metadata": {
    "collapsed": false
   },
   "outputs": [
    {
     "name": "stdout",
     "output_type": "stream",
     "text": [
      "Overwriting test_flip_bit.py\n"
     ]
    }
   ],
   "source": [
    "%%writefile test_flip_bit.py\n",
    "from nose.tools import assert_equal, assert_raises\n",
    "\n",
    "\n",
    "class TestBits(object):\n",
    "\n",
    "    def test_flip_bit(self):\n",
    "        bits = Bits()\n",
    "        assert_raises(TypeError, bits.flip_bit, None)\n",
    "        assert_equal(bits.flip_bit(0), 1)\n",
    "        assert_equal(bits.flip_bit(-1), bits.MAX_BITS)\n",
    "        num = int('00001111110111011110001111110000', base=2)\n",
    "        expected = 10\n",
    "        assert_equal(bits.flip_bit(num), expected)\n",
    "        num = int('00000100111011101111100011111011', base=2)\n",
    "        expected = 9\n",
    "        assert_equal(bits.flip_bit(num), expected)\n",
    "        num = int('00010011101110111110001111101111', base=2)\n",
    "        expected = 10\n",
    "        assert_equal(bits.flip_bit(num), expected)\n",
    "        print('Success: test_print_binary')\n",
    "\n",
    "\n",
    "def main():\n",
    "    test = TestBits()\n",
    "    test.test_flip_bit()\n",
    "\n",
    "\n",
    "if __name__ == '__main__':\n",
    "    main()"
   ]
  },
  {
   "cell_type": "code",
   "execution_count": 3,
   "metadata": {
    "collapsed": false
   },
   "outputs": [
    {
     "name": "stdout",
     "output_type": "stream",
     "text": [
      "Success: test_print_binary\n"
     ]
    }
   ],
   "source": [
    "%run -i test_flip_bit.py"
   ]
  }
 ],
 "metadata": {
  "kernelspec": {
   "display_name": "Python 3",
   "language": "python",
   "name": "python3"
  },
  "language_info": {
   "codemirror_mode": {
    "name": "ipython",
    "version": 3
   },
   "file_extension": ".py",
   "mimetype": "text/x-python",
   "name": "python",
   "nbconvert_exporter": "python",
   "pygments_lexer": "ipython3",
   "version": "3.4.3"
  }
 },
 "nbformat": 4,
 "nbformat_minor": 0
}
