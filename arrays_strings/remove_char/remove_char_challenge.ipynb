{
 "cells": [
  {
   "cell_type": "markdown",
   "metadata": {},
   "source": [
    "<small><i>This notebook was prepared by Marco Guajardo. Source and license info is on [GitHub](https://github.com/donnemartin/interactive-coding-challenges).</i></small>"
   ]
  },
  {
   "cell_type": "markdown",
   "metadata": {},
   "source": [
    "# Challenge Notebook"
   ]
  },
  {
   "cell_type": "markdown",
   "metadata": {},
   "source": [
    "## Problem: Remove a specified character from a string using two different methods, remove_char will use string operations and remove_char_recur will use recursion\n",
    "\n",
    "* [Constraints](#Constraints)\n",
    "* [Test Cases](#Test-Cases)\n",
    "* [Algorithm](#Algorithm)\n",
    "* [Code](#Code)\n",
    "* [Unit Test](#Unit-Test)\n",
    "* [Solution Notebook](#Solution-Notebook)"
   ]
  },
  {
   "cell_type": "markdown",
   "metadata": {},
   "source": [
    "## Constraints\n",
    "\n",
    "* Can you assume the string is ASCII?\n",
    "    * Yes\n",
    "    * Note: Unicode strings could require special handling depending on your language\n",
    "* What do I return for an empty string?\n",
    "  * With remove_char, return None\n",
    "  * With remove_char_recur, return an empty string\n",
    "* Is this case sensitive?\n",
    "    * Yes\n",
    "* Should I remove every instance of the char?\n",
    "    * Yes\n",
    "* What do I return if there are no instances in the string?\n",
    "    * Simply return the string unchanged\n",
    "* How many parameters will the function take?\n",
    "    * The parameters will be the string and the char"
   ]
  },
  {
   "cell_type": "markdown",
   "metadata": {},
   "source": [
    "## Test Cases\n",
    "\n",
    "* remove_char(\"programming\", 'g') -> \"prorammin\"\n",
    "* remove_char(\"\", 'g') -> None\n",
    "* remove_char_recur(\"programming\", 'g') -> \"prorammin\"\n",
    "* remove_char_recur(\"\", 'g') -> \"\"\n",
    "* remove_char (\"October\", 'o') -> \"Octber\""
   ]
  },
  {
   "cell_type": "markdown",
   "metadata": {},
   "source": [
    "## Algorithm\n",
    "\n",
    "Refer to the [Solution Notebook](http://nbviewer.ipython.org/github/donnemartin/interactive-coding-challenges/blob/master/arrays_strings/remove_char/remove_char_solution.ipynb).  If you are stuck and need a hint, the solution notebook's algorithm discussion might be a good place to start."
   ]
  },
  {
   "cell_type": "markdown",
   "metadata": {},
   "source": [
    "## Code"
   ]
  },
  {
   "cell_type": "code",
   "execution_count": null,
   "metadata": {
    "collapsed": true
   },
   "outputs": [],
   "source": [
    "def remove_char (string, char):\n",
    "    #TODO: Implement me\n",
    "    pass\n",
    "\n",
    "def remove_char_recur (string, char):\n",
    "    #TODO: Implement me\n",
    "    pass"
   ]
  },
  {
   "cell_type": "markdown",
   "metadata": {},
   "source": [
    "## Unit Test"
   ]
  },
  {
   "cell_type": "markdown",
   "metadata": {},
   "source": [
    "\n",
    "\n",
    "**The following unit test is expected to fail until you solve the challenge.**"
   ]
  },
  {
   "cell_type": "code",
   "execution_count": null,
   "metadata": {
    "collapsed": true
   },
   "outputs": [],
   "source": [
    "# %load test_rotation.py\n",
    "from nose.tools import assert_equal\n",
    "\n",
    "class TestRemoveChar (object):\n",
    "    \n",
    "    def rest_remove_char (self, func):\n",
    "        assert_equal()"
   ]
  }
 ],
 "metadata": {
  "kernelspec": {
   "display_name": "Python 2",
   "language": "python",
   "name": "python2"
  },
  "language_info": {
   "codemirror_mode": {
    "name": "ipython",
    "version": 2
   },
   "file_extension": ".py",
   "mimetype": "text/x-python",
   "name": "python",
   "nbconvert_exporter": "python",
   "pygments_lexer": "ipython2",
   "version": "2.7.6"
  }
 },
 "nbformat": 4,
 "nbformat_minor": 0
}
