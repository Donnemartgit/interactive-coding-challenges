{
 "cells": [
  {
   "cell_type": "markdown",
   "metadata": {},
   "source": [
    "<small><i>This notebook was prepared by Marco Guajardo. Source and license info is on [GitHub](https://github.com/donnemartin/interactive-coding-challenges).</i></small>"
   ]
  },
  {
   "cell_type": "markdown",
   "metadata": {},
   "source": [
    "# Challenge"
   ]
  },
  {
   "cell_type": "markdown",
   "metadata": {},
   "source": [
    "## Problem: Remove a specified character from a string using two different methods, remove_char will use string operations and remove_char_recur will use recursion\n",
    "\n",
    "* [Constraints](#Constraints)\n",
    "* [Test Cases](#Test-Cases)\n",
    "* [Algorithm](#Algorithm)\n",
    "* [Code](#Code)\n",
    "* [Unit Test](#Unit-Test)\n",
    "* [Solution Notebook](#Solution-Notebook)"
   ]
  },
  {
   "cell_type": "markdown",
   "metadata": {},
   "source": [
    "## Constraints\n",
    "\n",
    "* Can you assume the string is ASCII?\n",
    "    * Yes\n",
    "    * Note: Unicode strings could require special handling depending on your language\n",
    "* What do I return for an empty string?\n",
    "  * With remove_char, return None\n",
    "  * With remove_char_recur, return an empty string\n",
    "* Is this case sensitive?\n",
    "    * Yes\n",
    "* Should I remove every instance of the char?\n",
    "    * Yes\n",
    "* What do I return if there are no instances in the string?\n",
    "    * Simply return the string unchanged\n",
    "* How many parameters will the function take?\n",
    "    * The parameters will be 2; the string and the char"
   ]
  },
  {
   "cell_type": "markdown",
   "metadata": {},
   "source": [
    "## Test Cases\n",
    "\n",
    "* remove_char(\"programming\", 'g') -> \"prorammin\"\n",
    "* remove_char(\"\", 'g') -> None\n",
    "* remove_char_recur(\"programming\", 'g') -> \"prorammin\"\n",
    "* remove_char_recur(\"\", 'g') -> \"\"\n",
    "* remove_char (\"October\", 'o') -> \"Octber\""
   ]
  },
  {
   "cell_type": "markdown",
   "metadata": {},
   "source": [
    "## Algorithm 1: String operations"
   ]
  },
  {
   "cell_type": "markdown",
   "metadata": {},
   "source": [
    "* If the char is not on the string\n",
    "  * return None\n",
    "* Else\n",
    "  * use the string.replace function that takes two chars as parameters. The first char will be replaced by the second\n",
    "  \n",
    "Complexity:\n",
    "  * Time: O(n)\n",
    "  * Space: O(n)"
   ]
  },
  {
   "cell_type": "markdown",
   "metadata": {},
   "source": [
    "## Algorithm 2: Recursion"
   ]
  },
  {
   "cell_type": "markdown",
   "metadata": {},
   "source": [
    "* If len(string) is zero (base case)\n",
    "  * return the string\n",
    "* If the first index of the string is the char to be deleted\n",
    "  * return the function passing a new string with the first index removed\n",
    "* Else\n",
    "  * return the first index of the string plus the function with first index removed from the string\n",
    "  \n",
    "Complexity:\n",
    "  * Time: O(n)\n",
    "  * Space: O(n) \n",
    "  "
   ]
  },
  {
   "cell_type": "markdown",
   "metadata": {},
   "source": [
    "## Code"
   ]
  },
  {
   "cell_type": "code",
   "execution_count": 7,
   "metadata": {
    "collapsed": true
   },
   "outputs": [],
   "source": [
    "def remove_char (string, char):\n",
    "    if char not in string:\n",
    "        return None\n",
    "    \n",
    "    return string.replace(char, \"\")\n",
    "\n",
    "def remove_char_recur (string, char):\n",
    "    if len(string) is 0:\n",
    "        return string\n",
    "    elif string[0] is char:\n",
    "        return remove_char_recur (string[1:], char)\n",
    "    else:\n",
    "        return string[0] + remove_char_recur (string[1:], char)\n",
    "    "
   ]
  },
  {
   "cell_type": "markdown",
   "metadata": {},
   "source": [
    "## Unit Test"
   ]
  },
  {
   "cell_type": "code",
   "execution_count": 16,
   "metadata": {
    "collapsed": false
   },
   "outputs": [
    {
     "name": "stdout",
     "output_type": "stream",
     "text": [
      "Overwriting test_remove_char.py\n"
     ]
    }
   ],
   "source": [
    "%%writefile test_remove_char.py\n",
    "from nose.tools import assert_equal\n",
    "\n",
    "class TestRemoveChar (object):\n",
    "    def test_remove_char (self, func):\n",
    "        assert_equal(func(\"\", 'n'), None)\n",
    "        assert_equal(func(\"panda\", 'a'), \"pnd\")\n",
    "        assert_equal(func(\"zOokeeper\", 'o'), \"zOkeeper\")\n",
    "        assert_equal(func(\"Susan\", 's'), \"Suan\")\n",
    "        print(\"Success: test_remove_char\")\n",
    "        \n",
    "    def test_remove_char_recur (self, func):\n",
    "        assert_equal(func(\"\", 'n'), \"\")\n",
    "        assert_equal(func(\"char\", 'z'), \"char\")\n",
    "        assert_equal(func(\"panda\", 'A'), \"panda\")\n",
    "        assert_equal(func(\"the moon\", \" \"), \"themoon\")\n",
    "        print(\"Success: test_remove_char_recur\")\n",
    "        \n",
    "def main():\n",
    "    test = TestRemoveChar()\n",
    "    test.test_remove_char(remove_char)\n",
    "    test.test_remove_char_recur(remove_char_recur)\n",
    "\n",
    "if __name__=='__main__':\n",
    "    main()"
   ]
  },
  {
   "cell_type": "code",
   "execution_count": 17,
   "metadata": {
    "collapsed": false
   },
   "outputs": [
    {
     "name": "stdout",
     "output_type": "stream",
     "text": [
      "Success: test_remove_char\n",
      "Success: test_remove_char_recur\n"
     ]
    }
   ],
   "source": [
    "%run -i test_remove_char.py\n"
   ]
  }
 ],
 "metadata": {
  "kernelspec": {
   "display_name": "Python 2",
   "language": "python",
   "name": "python2"
  },
  "language_info": {
   "codemirror_mode": {
    "name": "ipython",
    "version": 2
   },
   "file_extension": ".py",
   "mimetype": "text/x-python",
   "name": "python",
   "nbconvert_exporter": "python",
   "pygments_lexer": "ipython2",
   "version": "2.7.6"
  }
 },
 "nbformat": 4,
 "nbformat_minor": 0
}
