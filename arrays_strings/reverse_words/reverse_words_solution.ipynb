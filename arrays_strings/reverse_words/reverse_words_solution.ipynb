{
 "metadata": {
  "name": ""
 },
 "nbformat": 3,
 "nbformat_minor": 0,
 "worksheets": [
  {
   "cells": [
    {
     "cell_type": "markdown",
     "metadata": {},
     "source": [
      "<small> <i> Notebok written by Marco Guajardo. For license visit [github](https://github.com/donnemartin/interactive-coding-challenges) </i> </small>"
     ]
    },
    {
     "cell_type": "markdown",
     "metadata": {},
     "source": [
      "# Solution notebook\n",
      "## Problem: Given a string of words, return a string with the words in reverse"
     ]
    },
    {
     "cell_type": "markdown",
     "metadata": {},
     "source": [
      "* [Constraits](#Constraint)\n",
      "* [Test Cases](#Test-Cases)\n",
      "* [Algorithm](#Algorithm)\n",
      "* [Code](#Code)\n",
      "* [Unit Test](#Unit-Test)\n",
      "* [Solution Notebook](#Solution-Notebook)"
     ]
    },
    {
     "cell_type": "markdown",
     "metadata": {},
     "source": [
      "## Constraints\n",
      "* Return a string with the words reversed\n",
      "* If the string is null (None), return None\n",
      "* the string you return will have the reversed words in the same order\n"
     ]
    },
    {
     "cell_type": "markdown",
     "metadata": {},
     "source": [
      "## Algorithm\n",
      "\n",
      "* The algorithm used to solve this problem is spltting the words into a list\n",
      "* traverse the list and reverse words\n",
      "* return the list the string representation of the list\n",
      "* complexity is O(n), n = number of words in string"
     ]
    },
    {
     "cell_type": "code",
     "collapsed": false,
     "input": [
      "def reverse_words(S):\n",
      "    if len(S) is 0:\n",
      "        return None\n",
      "    \n",
      "    S = S.split()\n",
      "    for i in range (len(S)):\n",
      "        S[i] = S[i][::-1]\n",
      "        \n",
      "    return \" \".join(S)"
     ],
     "language": "python",
     "metadata": {},
     "outputs": [],
     "prompt_number": 1
    },
    {
     "cell_type": "code",
     "collapsed": false,
     "input": [
      "class UnitTest (object):\n",
      "    def testReverseWords(self):\n",
      "        try:\n",
      "            print(reverse_words(\"the sun is hot\"))\n",
      "            assert reverse_words(\"the sun is hot\") == \"eht nus si toh\"\n",
      "            print(reverse_words(\"\"))\n",
      "            assert reverse_words(\"\") == None\n",
      "            print(reverse_words(\"123 456 789\"))\n",
      "            assert reverse_words(\"123 456 789\") == \"321 654 987\"\n",
      "            print(reverse_words(\"magic\") == \"cigam\")\n",
      "            assert reverse_words(\"magic\") == \"cigam\"\n",
      "            print(\"Success: reverse words\")\n",
      "        except:\n",
      "            print(\"Failed: reverse words\")\n",
      "            \n",
      "def main():\n",
      "    test = UnitTest()\n",
      "    test.testReverseWords()\n",
      "\n",
      "if __name__==\"__main__\":\n",
      "  main()"
     ],
     "language": "python",
     "metadata": {},
     "outputs": [
      {
       "output_type": "stream",
       "stream": "stdout",
       "text": [
        "eht nus si toh\n",
        "None\n",
        "321 654 987\n",
        "True\n",
        "Succes: reverse words\n"
       ]
      }
     ],
     "prompt_number": 2
    }
   ],
   "metadata": {}
  }
 ]
}