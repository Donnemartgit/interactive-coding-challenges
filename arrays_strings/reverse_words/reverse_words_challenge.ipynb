{
 "metadata": {
  "name": ""
 },
 "nbformat": 3,
 "nbformat_minor": 0,
 "worksheets": [
  {
   "cells": [
    {
     "cell_type": "markdown",
     "metadata": {},
     "source": [
      "<small> <i> Notebok written by Marco Guajardo. For license visit [github](https://github.com/donnemartin/interactive-coding-challenges) </i> </small>\n",
      "."
     ]
    },
    {
     "cell_type": "markdown",
     "metadata": {},
     "source": [
      "# Challenge Notebook\n"
     ]
    },
    {
     "cell_type": "markdown",
     "metadata": {},
     "source": [
      "## Problem: Given a string of words, return a string with the words in reverse"
     ]
    },
    {
     "cell_type": "markdown",
     "metadata": {},
     "source": [
      "* [Constraits](#Constraint)\n",
      "* [Test Cases](#Test-Cases)\n",
      "* [Algorithm](#Algorithm)\n",
      "* [Code](#Code)\n",
      "* [Unit Test](#Unit-Test)\n",
      "* [Solution Notebook](#Solution-Notebook)"
     ]
    },
    {
     "cell_type": "markdown",
     "metadata": {},
     "source": [
      "## Constraints\n",
      "* Return a string with the words reversed\n",
      "* If the string is null (None), return None\n",
      "* the string you return will have the reversed words in the same order\n"
     ]
    },
    {
     "cell_type": "markdown",
     "metadata": {},
     "source": [
      "## Test Cases\n",
      "* Empty string -> None\n",
      "* \"the sun is very hot\" -> \"eht nus si yrev toh\"\n"
     ]
    },
    {
     "cell_type": "markdown",
     "metadata": {},
     "source": [
      "## Algorithm\n",
      "* refer to [Solution](https://github.com/donnemartin/interactive-coding-challenges/blob/master/arrays_strings/reverse_words/reverse_words_solution.ipynb) if you are stuck in this problem."
     ]
    },
    {
     "cell_type": "markdown",
     "metadata": {},
     "source": [
      "## Code "
     ]
    },
    {
     "cell_type": "code",
     "collapsed": false,
     "input": [
      "def reverse_words (S):\n",
      "    #TODO: implement me\n",
      "    pass "
     ],
     "language": "python",
     "metadata": {},
     "outputs": [],
     "prompt_number": 21
    },
    {
     "cell_type": "markdown",
     "metadata": {},
     "source": [
      "## Unit Test\n",
      "<b> The following unit test is expected to fail until you solve challenge </b>"
     ]
    },
    {
     "cell_type": "code",
     "collapsed": false,
     "input": [
      "class UnitTest (object):\n",
      "    def testReverseWords(self):\n",
      "        try:\n",
      "            print(reverse_words(\"the sun is hot\"))\n",
      "            assert reverse_words(\"the sun is hot\") == \"eht nus si toh\"\n",
      "            print(reverse_words(\"\"))\n",
      "            assert reverse_words(\"\") == None\n",
      "            print(reverse_words(\"123 456 789\"))\n",
      "            assert reverse_words(\"123 456 789\") == \"321 654 987\"\n",
      "            print(reverse_words(\"magic\") == \"cigam\")\n",
      "            assert reverse_words(\"magic\") == \"cigam\"\n",
      "            print(\"Success: reverse words\")\n",
      "        except:\n",
      "            print(\"Failed: reverse words\")\n",
      "            \n",
      "def main():\n",
      "    test = UnitTest()\n",
      "    test.testReverseWords()\n",
      "\n",
      "if __name__==\"__main__\":\n",
      "  main()"
     ],
     "language": "python",
     "metadata": {},
     "outputs": [
      {
       "output_type": "stream",
       "stream": "stdout",
       "text": [
        "Failed: reverse words\n"
       ]
      }
     ],
     "prompt_number": 1
    },
    {
     "cell_type": "markdown",
     "metadata": {},
     "source": [
      "## Solution Notebook\n",
      "* refer to the [Solution](https://github.com/donnemartin/interactive-coding-challenges/blob/master/arrays_strings/reverse_words/reverse_words_solution.ipynb) manual for one solution to the problem. "
     ]
    }
   ],
   "metadata": {}
  }
 ]
}