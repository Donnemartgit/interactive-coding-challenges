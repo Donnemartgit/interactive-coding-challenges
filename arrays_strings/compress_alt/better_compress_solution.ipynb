{
 "cells": [
  {
   "cell_type": "markdown",
   "metadata": {},
   "source": [
    "This notebook was prepared by [hashhar](https://github.com/hashhar), second solution added by [janhak] (https://github.com/janhak). Source and license info is on [GitHub](https://github.com/donnemartin/interactive-coding-challenges)."
   ]
  },
  {
   "cell_type": "markdown",
   "metadata": {},
   "source": [
    "# Solution Notebook"
   ]
  },
  {
   "cell_type": "markdown",
   "metadata": {},
   "source": [
    "## Problem: Compress a string such that 'AAABCCDDDD' becomes 'A3BCCD4'.  Only compress the string if it saves space.\n",
    "\n",
    "* [Constraints](#Constraints)\n",
    "* [Test Cases](#Test-Cases)\n",
    "* [Algorithm](#Algorithm)\n",
    "* [Code](#Code)\n",
    "* [Unit Test](#Unit-Test)"
   ]
  },
  {
   "cell_type": "markdown",
   "metadata": {},
   "source": [
    "## Constraints\n",
    "\n",
    "* Can we assume the string is ASCII?\n",
    "    * Yes\n",
    "    * Note: Unicode strings could require special handling depending on your language\n",
    "* Is this case sensitive?\n",
    "    * Yes\n",
    "* Can we use additional data structures?  \n",
    "    * Yes\n",
    "* Can we assume this fits in memory?\n",
    "    * Yes"
   ]
  },
  {
   "cell_type": "markdown",
   "metadata": {},
   "source": [
    "## Test Cases\n",
    "\n",
    "* None -> None\n",
    "* '' -> ''\n",
    "* 'AABBCC' -> 'AABBCC'\n",
    "* 'AAABCCDDDD' -> 'A3BCCD4'"
   ]
  },
  {
   "cell_type": "markdown",
   "metadata": {},
   "source": [
    "## Algorithm\n",
    "\n",
    "* For each char in string starting from index = 1\n",
    "    * If current char is the same as previous, increment count\n",
    "    * Else\n",
    "        * If the count is more than 2\n",
    "            * Append previous char to compressed_string\n",
    "            * Append count to compressed_string\n",
    "            * count = 1\n",
    "        * Else\n",
    "            * Append previous char count times to compressed_string\n",
    "\n",
    "* If the count is more than 2\n",
    "    * Append last char of string to compressed_string\n",
    "    * Append count to compressed_string\n",
    "* Else\n",
    "    * Append last char of string count times to compressed_string\n",
    "\n",
    "* If the compressed string size is < string size\n",
    "    * Return compressed string\n",
    "* Else\n",
    "    * Return string\n",
    "\n",
    "Complexity:\n",
    "* Time: O(n)\n",
    "* Space: O(n)"
   ]
  },
  {
   "cell_type": "markdown",
   "metadata": {},
   "source": [
    "## Code"
   ]
  },
  {
   "cell_type": "code",
   "execution_count": null,
   "metadata": {},
   "outputs": [],
   "source": [
    "def compress_string(string):\n",
    "    if string is None or len(string) < 3:\n",
    "        return string\n",
    "   \n",
    "    count, compressed_string = 1, \"\"\n",
    "    \n",
    "    # shortcut for repetitive task\n",
    "    append = lambda c, k: c + str(k) if k > 2 else c * k\n",
    "    \n",
    "    for i in range(1, len(string)):\n",
    "        if string[i] == string[i-1]:\n",
    "            count += 1\n",
    "        else:\n",
    "            compressed_string += append(string[i-1], count)\n",
    "            count = 1\n",
    "\n",
    "    compressed_string += append(string[-1], count)\n",
    "    \n",
    "    if len(compressed_string) < len(string):\n",
    "        return compressed_string\n",
    "    else:\n",
    "        return string"
   ]
  },
  {
   "cell_type": "markdown",
   "metadata": {},
   "source": [
    "## Algorithm: Split to blocks and compress\n",
    "\n",
    "Let us split the string first into blocks of identical characters and then compress it block by block.\n",
    "\n",
    "* Split the string to blocks\n",
    "    * For each character in string\n",
    "        * Add this character to block\n",
    "        * If the next character is different\n",
    "            * Return block\n",
    "            * Erase the content of block\n",
    "\n",
    "\n",
    "* Compress block\n",
    "    *  If block consists of two or fewer characters\n",
    "        * Return block\n",
    "    * Else\n",
    "        * Append length of the block to the first character and return\n",
    "\n",
    "\n",
    "* Compress string\n",
    "    * Split the string to blocks\n",
    "    * Compress blocks\n",
    "    * Join compressed blocks\n",
    "    * Return result if it is shorter than original string\n",
    "\n",
    "Complexity:\n",
    "* Time: O(n)\n",
    "* Space: O(n)"
   ]
  },
  {
   "cell_type": "code",
   "execution_count": null,
   "metadata": {},
   "outputs": [],
   "source": [
    "def split_to_blocks(string):\n",
    "    block = ''\n",
    "    for char, next_char in zip(string, string[1:] + ' '):\n",
    "        block += char\n",
    "        if char is not next_char:\n",
    "            yield block\n",
    "            block = ''\n",
    "\n",
    "\n",
    "def compress_block(block):\n",
    "    if len(block) <= 2:\n",
    "        return block\n",
    "    else:\n",
    "        return block[0] + str(len(block))\n",
    "\n",
    "\n",
    "def compress_string(string):\n",
    "    if string is None or not string:\n",
    "        return string\n",
    "    compressed = (compress_block(block) for block in split_to_blocks(string))\n",
    "    result = ''.join(compressed)\n",
    "    return result if len(result) < len(string) else string"
   ]
  },
  {
   "cell_type": "markdown",
   "metadata": {},
   "source": [
    "## Unit Test"
   ]
  },
  {
   "cell_type": "code",
   "execution_count": null,
   "metadata": {},
   "outputs": [],
   "source": [
    "%%writefile test_compress.py\n",
    "from nose.tools import assert_equal\n",
    "\n",
    "\n",
    "class TestCompress(object):\n",
    "\n",
    "    def test_compress(self, func):\n",
    "        assert_equal(func(None), None)\n",
    "        assert_equal(func(''), '')\n",
    "        assert_equal(func('AABBCC'), 'AABBCC')\n",
    "        assert_equal(func('AAABCCDDDD'), 'A3BCCD4')\n",
    "        assert_equal(func('aaBCCEFFFFKKMMMMMMP taaammanlaarrrr seeeeeeeeek tooo'), 'aaBCCEF4KKM6P ta3mmanlaar4 se9k to3')\n",
    "        print('Success: test_compress')\n",
    "\n",
    "\n",
    "def main():\n",
    "    test = TestCompress()\n",
    "    test.test_compress(compress_string)\n",
    "\n",
    "\n",
    "if __name__ == '__main__':\n",
    "    main()"
   ]
  },
  {
   "cell_type": "code",
   "execution_count": null,
   "metadata": {},
   "outputs": [],
   "source": [
    "%run -i test_compress.py"
   ]
  }
 ],
 "metadata": {
  "kernelspec": {
   "display_name": "Python 3",
   "language": "python",
   "name": "python3"
  },
  "language_info": {
   "codemirror_mode": {
    "name": "ipython",
    "version": 3
   },
   "file_extension": ".py",
   "mimetype": "text/x-python",
   "name": "python",
   "nbconvert_exporter": "python",
   "pygments_lexer": "ipython3",
   "version": "3.7.0"
  }
 },
 "nbformat": 4,
 "nbformat_minor": 1
}
