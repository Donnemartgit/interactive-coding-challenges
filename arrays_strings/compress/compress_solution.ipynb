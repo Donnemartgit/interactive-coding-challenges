{
 "cells": [
  {
   "cell_type": "markdown",
   "metadata": {},
   "source": [
    "This notebook was prepared by [Donne Martin](http://donnemartin.com). Source and license info is on [GitHub](https://github.com/donnemartin/interactive-coding-challenges)."
   ]
  },
  {
   "cell_type": "markdown",
   "metadata": {},
   "source": [
    "# Solution Notebook"
   ]
  },
  {
   "cell_type": "markdown",
   "metadata": {},
   "source": [
    "## Problem: Compress a string such that 'AAABCCDDDD' becomes 'A3BC2D4'.  Only compress the string if it saves space.\n",
    "\n",
    "* [Constraints](#Constraints)\n",
    "* [Test Cases](#Test-Cases)\n",
    "* [Algorithm](#Algorithm)\n",
    "* [Code](#Code)\n",
    "* [Unit Test](#Unit-Test)\n",
    "* [Bonus C Algorithm](#C-Algorithm)\n",
    "* [Bonus C Code](#C-Code)"
   ]
  },
  {
   "cell_type": "markdown",
   "metadata": {},
   "source": [
    "## Constraints\n",
    "\n",
    "* Can we assume the string is ASCII?\n",
    "    * Yes\n",
    "    * Note: Unicode strings could require special handling depending on your language\n",
    "* Is this case sensitive?\n",
    "    * Yes\n",
    "* Can we use additional data structures?  \n",
    "    * Yes\n",
    "* Can we assume this fits in memory?\n",
    "    * Yes"
   ]
  },
  {
   "cell_type": "markdown",
   "metadata": {},
   "source": [
    "## Test Cases\n",
    "\n",
    "* None -> None\n",
    "* '' -> ''\n",
    "* 'AABBCC' -> 'AABBCC'\n",
    "* 'AAABCCDDDD' -> 'A3BC2D4'"
   ]
  },
  {
   "cell_type": "markdown",
   "metadata": {},
   "source": [
    "## Algorithm\n",
    "\n",
    "* For each char in string\n",
    "    * If char is the same as last_char, increment count\n",
    "    * Else\n",
    "        * Append last_char and count to compressed_string\n",
    "        * last_char = char\n",
    "        * count = 1\n",
    "* Append last_char and count to compressed_string\n",
    "* If the compressed string size is < string size\n",
    "    * Return compressed string\n",
    "* Else\n",
    "    * Return string\n",
    "\n",
    "Complexity:\n",
    "* Time: O(n)\n",
    "* Space: O(n)\n",
    "\n",
    "Complexity Note:\n",
    "* Although strings are immutable in Python, appending to strings is optimized in CPython so that it now runs in O(n) and extends the string in-place.  Refer to this [Stack Overflow post](http://stackoverflow.com/a/4435752)."
   ]
  },
  {
   "cell_type": "markdown",
   "metadata": {},
   "source": [
    "## Code"
   ]
  },
  {
   "cell_type": "code",
   "execution_count": 1,
   "metadata": {
    "collapsed": false
   },
   "outputs": [],
   "source": [
    "class CompressString(object):\n",
    "\n",
    "    def compress(self, string):\n",
    "        if string is None or not string:\n",
    "            return string\n",
    "        result = ''\n",
    "        prev_char = string[0]\n",
    "        count = 0\n",
    "        for char in string:\n",
    "            if char == prev_char:\n",
    "                count += 1\n",
    "            else:\n",
    "                result += self._calc_partial_result(prev_char, count)\n",
    "                prev_char = char\n",
    "                count = 1\n",
    "        result += self._calc_partial_result(prev_char, count)\n",
    "        return result if len(result) < len(string) else string\n",
    "\n",
    "    def _calc_partial_result(self, prev_char, count):\n",
    "        return prev_char + (str(count) if count > 1 else '')"
   ]
  },
  {
   "cell_type": "markdown",
   "metadata": {},
   "source": [
    "## Unit Test"
   ]
  },
  {
   "cell_type": "code",
   "execution_count": 2,
   "metadata": {
    "collapsed": false
   },
   "outputs": [
    {
     "name": "stdout",
     "output_type": "stream",
     "text": [
      "Overwriting test_compress.py\n"
     ]
    }
   ],
   "source": [
    "%%writefile test_compress.py\n",
    "from nose.tools import assert_equal\n",
    "\n",
    "\n",
    "class TestCompress(object):\n",
    "\n",
    "    def test_compress(self, func):\n",
    "        assert_equal(func(None), None)\n",
    "        assert_equal(func(''), '')\n",
    "        assert_equal(func('AABBCC'), 'AABBCC')\n",
    "        assert_equal(func('AAABCCDDDDE'), 'A3BC2D4E')\n",
    "        assert_equal(func('BAAACCDDDD'), 'BA3C2D4')\n",
    "        assert_equal(func('AAABAACCDDDD'), 'A3BA2C2D4')\n",
    "        print('Success: test_compress')\n",
    "\n",
    "\n",
    "def main():\n",
    "    test = TestCompress()\n",
    "    compress_string = CompressString()\n",
    "    test.test_compress(compress_string.compress)\n",
    "\n",
    "\n",
    "if __name__ == '__main__':\n",
    "    main()"
   ]
  },
  {
   "cell_type": "code",
   "execution_count": 3,
   "metadata": {
    "collapsed": false,
    "deletable": true,
    "editable": true
   },
   "outputs": [
    {
     "name": "stdout",
     "output_type": "stream",
     "text": [
      "Success: test_compress\n"
     ]
    }
   ],
   "source": [
    "%run -i test_compress.py"
   ]
  },
  {
   "cell_type": "markdown",
   "metadata": {},
   "source": [
    "## C Algorithm"
   ]
  },
  {
   "cell_type": "markdown",
   "metadata": {},
   "source": [
    "This algorithm is based on Python Algorithm\n",
    "\n",
    "Define a 'result' (the compressed string) with the string's len .\n",
    "\n",
    "* First, for each element into the string\n",
    "    * If the element (char) is as the last char, we increment the count\n",
    "    * Else\n",
    "        * Concat the last char and count into the 'result'.\n",
    "        * make the last char = char\n",
    "        * count = 1\n",
    "           \n",
    "* Then, concat the last char and count into the 'result' \n",
    "\n",
    "* Finally, if the 'result' (compressed string) size is < string size\n",
    "    * Return 'result' string\n",
    "* Else\n",
    "    * Return string"
   ]
  },
  {
   "cell_type": "code",
   "execution_count": null,
   "metadata": {
    "collapsed": true
   },
   "outputs": [],
   "source": [
    "# %load compress.c\n",
    "#include <stdio.h>\n",
    "#include <stdlib.h>\n",
    "#include <string.h>\n",
    "\n",
    "\n",
    "char *compress (char *s);\n",
    "char *_calc_partial_result (char p_char, char count);\n",
    "\n",
    "int main ( ){\n",
    "  printf(\"%s\\n\",compress(\"AABBCC\"));\n",
    "  return 0;\n",
    "}\n",
    "\n",
    "char *compress ( char *s){\n",
    "  char *result = (char*) malloc(strlen(s)); // result string\n",
    "  char prev_char; // previous char\n",
    "  int count = 0; // count defines\n",
    "  char *p_count;\n",
    "  int i;\n",
    "  if(sizeof(s) == 0)\n",
    "    return NULL;\n",
    "  prev_char = s[0];\n",
    "  for (i=0; i<strlen(s); i+=1){\n",
    "    if (s[i] == prev_char)\n",
    "      count+=1;\n",
    "    else{\n",
    "      asprintf(&p_count, \"%i\", count);\n",
    "      strcat(result, _calc_partial_result(prev_char, *p_count));\n",
    "      prev_char = s[i];\n",
    "      count = 1;\n",
    "    }\n",
    "  }\n",
    "  asprintf(&p_count, \"%i\", count);\n",
    "  strcat(result, _calc_partial_result(prev_char, *p_count));\n",
    "  if(strlen(result)<strlen(s))\n",
    "    return result;\n",
    "  else\n",
    "    return s;\n",
    "}\n",
    "\n",
    "char *_calc_partial_result (char p_char, char count){\n",
    "  char *buff;\n",
    "  int c = atoi(&count);\n",
    "  if(c > 1){\n",
    "    buff = (char*) malloc(sizeof(p_char) + sizeof(count));\n",
    "    strcpy(buff, &p_char);\n",
    "    strcat(buff, &count);\n",
    "  }else{\n",
    "    buff = (char*) malloc(sizeof(p_char));\n",
    "    strncpy(buff, &p_char, sizeof(p_char));\n",
    "  }\n",
    "  return buff;\n",
    "}\n"
   ]
  }
 ],
 "metadata": {
  "celltoolbar": "Edit Metadata",
  "kernelspec": {
   "display_name": "Python 2",
   "language": "python",
   "name": "python2"
  },
  "language_info": {
   "codemirror_mode": {
    "name": "ipython",
    "version": 2
   },
   "file_extension": ".py",
   "mimetype": "text/x-python",
   "name": "python",
   "nbconvert_exporter": "python",
   "pygments_lexer": "ipython2",
   "version": "2.7.9"
  }
 },
 "nbformat": 4,
 "nbformat_minor": 0
}
