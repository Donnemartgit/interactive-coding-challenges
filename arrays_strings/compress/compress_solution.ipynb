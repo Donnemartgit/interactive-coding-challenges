{
 "cells": [
  {
   "cell_type": "markdown",
   "metadata": {},
   "source": [
    "<small><i>This notebook was prepared by [Donne Martin](http://donnemartin.com). Source and license info is on [GitHub](https://github.com/donnemartin/interactive-coding-challenges).</i></small>"
   ]
  },
  {
   "cell_type": "markdown",
   "metadata": {},
   "source": [
    "# Solution Notebook"
   ]
  },
  {
   "cell_type": "markdown",
   "metadata": {},
   "source": [
    "## Problem: Compress a string such that 'AAABCCDDDD' becomes 'A3BCCD4'.  Only compress the string if it saves space.\n",
    "\n",
    "* [Constraints](#Constraints)\n",
    "* [Test Cases](#Test-Cases)\n",
    "* [Algorithm](#Algorithm)\n",
    "* [Code](#Code)\n",
    "* [Unit Test](#Unit-Test)"
   ]
  },
  {
   "cell_type": "markdown",
   "metadata": {},
   "source": [
    "## Constraints\n",
    "\n",
    "* Can we assume the string is ASCII?\n",
    "    * Yes\n",
    "    * Note: Unicode strings could require special handling depending on your language\n",
    "* Can you use additional data structures?  \n",
    "    * Yes\n",
    "* Is this case sensitive?\n",
    "    * Yes"
   ]
  },
  {
   "cell_type": "markdown",
   "metadata": {},
   "source": [
    "## Test Cases\n",
    "\n",
    "* None -> None\n",
    "* '' -> ''\n",
    "* 'AABBCC' -> 'AABBCC'\n",
    "* 'AAABCCDDDD' -> 'A3BCCD4'"
   ]
  },
  {
   "cell_type": "markdown",
   "metadata": {},
   "source": [
    "## Algorithm\n",
    "\n",
    "Since Python strings are immutable, we'll use a list of characters to build the compressed string representation.  We'll then convert the list to a string.\n",
    "\n",
    "* Calculate the size of the compressed string\n",
    "    * Note the constraint about compressing only if it saves space\n",
    "* If the compressed string size is >= string size, return string\n",
    "* Create compressed_string\n",
    "    * For each char in string\n",
    "        * If char is the same as last_char, increment count\n",
    "        * Else\n",
    "            * If the count is more than 2\n",
    "                * Append last_char to compressed_string\n",
    "                * append count to compressed_string\n",
    "                * count = 1\n",
    "                * last_char = char\n",
    "            * If count is 1\n",
    "                * Append last_char to compressed_string\n",
    "                * count = 1\n",
    "                * last_char = char\n",
    "            * If count is 2\n",
    "                * Append last_char to compressed_string\n",
    "                * Append last_char to compressed_string once more\n",
    "                * count = 1\n",
    "                * last_char = char\n",
    "        * Append last_char to compressed_string\n",
    "        * Append count to compressed_string\n",
    "    * Return compressed_string\n",
    "\n",
    "Complexity:\n",
    "* Time: O(n)\n",
    "* Space: O(n)"
   ]
  },
  {
   "cell_type": "markdown",
   "metadata": {},
   "source": [
    "## Code"
   ]
  },
  {
   "cell_type": "code",
   "execution_count": 4,
   "metadata": {
    "collapsed": false
   },
   "outputs": [],
   "source": [
    "def compress_string(string):\n",
    "\tif string is None or len(string) == 0:\n",
    "\t\treturn string\n",
    "\n",
    "\t# Calculate the size of the compressed string\n",
    "\tsize = 0\n",
    "\tlast_char = string[0]\n",
    "\tfor char in string:\n",
    "\t\tif char != last_char:\n",
    "\t\t\tsize += 2\n",
    "\t\t\tlast_char = char\n",
    "\tsize += 2\n",
    "\n",
    "\t# If the compressed string size is greater than\n",
    "\t# or equal to string size, return original string\n",
    "\tif size >= len(string):\n",
    "\t\treturn string\n",
    "\n",
    "\t# Create compressed_string\n",
    "\t# New objective:\n",
    "\t\t# Single characters are to be left as is\n",
    "\t\t# Double characters are to be left as are\n",
    "\tcompressed_string = list()\n",
    "\tcount = 0\n",
    "\tlast_char = string[0]\n",
    "\tfor char in string:\n",
    "\t\tif char == last_char:\n",
    "\t\t\tcount += 1\n",
    "\t\telse:\n",
    "\t\t\t# Do the old compression tricks only if count exceeds two\n",
    "\t\t\tif count > 2:\n",
    "\t\t\t\tcompressed_string.append(last_char)\n",
    "\t\t\t\tcompressed_string.append(str(count))\n",
    "\t\t\t\tcount = 1\n",
    "\t\t\t\tlast_char = char\n",
    "\t\t\t# If count is either 1 or 2 (or 0?)\n",
    "\t\t\t# FIXME: CAN COUNT BE 0?\n",
    "\t\t\telse:\n",
    "\t\t\t\t# If count is 1, leave the char as is\n",
    "\t\t\t\tif count == 1:\n",
    "\t\t\t\t\tcompressed_string.append(last_char)\n",
    "\t\t\t\t\tcount = 1\n",
    "\t\t\t\t\tlast_char = char\n",
    "\t\t\t\t# If count is 2, append the character twice\n",
    "\t\t\t\telse:\n",
    "\t\t\t\t\tcompressed_string.append(last_char)\n",
    "\t\t\t\t\tcompressed_string.append(last_char)\n",
    "\t\t\t\t\tcount = 1\n",
    "\t\t\t\t\tlast_char = char\n",
    "\tcompressed_string.append(last_char)\n",
    "\tcompressed_string.append(str(count))\n",
    "\n",
    "\t# Convert the characters in the list to a string\n",
    "\treturn \"\".join(compressed_string)"
   ]
  },
  {
   "cell_type": "markdown",
   "metadata": {},
   "source": [
    "## Unit Test"
   ]
  },
  {
   "cell_type": "code",
   "execution_count": 5,
   "metadata": {
    "collapsed": false
   },
   "outputs": [
    {
     "name": "stdout",
     "output_type": "stream",
     "text": [
      "Overwriting test_compress.py\n"
     ]
    }
   ],
   "source": [
    "%%writefile test_compress.py\n",
    "from nose.tools import assert_equal\n",
    "\n",
    "\n",
    "class TestCompress(object):\n",
    "\n",
    "    def test_compress(self, func):\n",
    "        assert_equal(func(None), None)\n",
    "        assert_equal(func(''), '')\n",
    "        assert_equal(func('AABBCC'), 'AABBCC')\n",
    "        assert_equal(func('AAABCCDDDD'), 'A3BCCD4')\n",
    "        assert_equal(func('aaBCCEFFFFKKMMMMMMP taaammanlaarrrr seeeeeeeeek tooo'), 'aaBCCEF4KKM6P ta3mmanlaar4 se9k to3')\n",
    "        print('Success: test_compress')\n",
    "\n",
    "\n",
    "def main():\n",
    "    test = TestCompress()\n",
    "    test.test_compress(compress_string)\n",
    "\n",
    "\n",
    "if __name__ == '__main__':\n",
    "    main()"
   ]
  },
  {
   "cell_type": "code",
   "execution_count": 7,
   "metadata": {
    "collapsed": false
   },
   "outputs": [
    {
     "name": "stdout",
     "output_type": "stream",
     "text": [
      "Success: test_compress\n"
     ]
    }
   ],
   "source": [
    "%run -i test_compress.py"
   ]
  },
  {
   "cell_type": "code",
   "execution_count": null,
   "metadata": {
    "collapsed": true
   },
   "outputs": [],
   "source": []
  }
 ],
 "metadata": {
  "kernelspec": {
   "display_name": "Python 3",
   "language": "python",
   "name": "python3"
  },
  "language_info": {
   "codemirror_mode": {
    "name": "ipython",
    "version": 3
   },
   "file_extension": ".py",
   "mimetype": "text/x-python",
   "name": "python",
   "nbconvert_exporter": "python",
   "pygments_lexer": "ipython3",
   "version": "3.4.3"
  }
 },
 "nbformat": 4,
 "nbformat_minor": 0
}
