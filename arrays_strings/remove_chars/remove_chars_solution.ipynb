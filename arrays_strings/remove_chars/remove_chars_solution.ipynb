{
 "cells": [
  {
   "cell_type": "markdown",
   "metadata": {
    "deletable": true,
    "editable": true
   },
   "source": [
    "This notebook was prepared by [eamanu](http://github.com/eamanu). Source and license info is on [GitHub](https://github.com/donnemartin/interactive-coding-challenges)."
   ]
  },
  {
   "cell_type": "markdown",
   "metadata": {
    "deletable": true,
    "editable": true
   },
   "source": [
    "# Solution Notebook"
   ]
  },
  {
   "cell_type": "markdown",
   "metadata": {
    "deletable": true,
    "editable": true
   },
   "source": [
    "## Problem: Remove specified characters in a string\t\n",
    "\n",
    "* [Constraints](#Constraints)\n",
    "* [Test Cases](#Test-Cases)\n",
    "* [Algorithm 1: Simple replace of chars](#Algorithm-1:-Simple-replace-of-chars)\n",
    "* [Code: Simple replace of chars](#Code:-Simple-replace-of-chars)\n",
    "* [Unit Test](#Unit-Test)"
   ]
  },
  {
   "cell_type": "markdown",
   "metadata": {
    "deletable": true,
    "editable": true
   },
   "source": [
    "## Constraints\n",
    "\n",
    "* Can we assume the string is ASCII?\n",
    "    * Yes\n",
    "    * Note: Unicode strings could require special handling depending on your language\n",
    "* Can we assume this is case sensitive?\n",
    "    * Yes\n",
    "* Can we use additional data structures?\n",
    "    * Yes\n",
    "* Can we assume this fits in memory?\n",
    "    * Yes"
   ]
  },
  {
   "cell_type": "markdown",
   "metadata": {
    "deletable": true,
    "editable": true
   },
   "source": [
    "## Test Cases\n",
    "\n",
    "String = 'Python is great'\n",
    "chars -> This is the characters to remove from String\n",
    "\n",
    "* chars = None -> False\n",
    "* chars = '' -> 'Python is great'\n",
    "* chars = 'y' -> 'Pthon is great'\n",
    "* chars = 'tp' -> 'yhon is grea'"
   ]
  },
  {
   "cell_type": "markdown",
   "metadata": {
    "deletable": true,
    "editable": true
   },
   "source": [
    "## Algorithm 1: Simple remove of characters\n",
    "\n",
    "* If the characters to remove is None\n",
    "    * Return False\n",
    "    \n",
    "We convert the string (target) and characters (to remove) to a list of characters, 'sl' and 'cl', respectively. Then we make a buffer copy of the string (we called newString). Then: \n",
    "\n",
    "* Loop the 'sl'  and for each 'cl' element, we ask\n",
    "    * If this sl element == cl element -> remove the sl element in newString\n",
    "    * Break to avoid repeat process\n",
    " \n",
    "* Convert the newString list to a string \n",
    "  "
   ]
  },
  {
   "cell_type": "markdown",
   "metadata": {
    "deletable": true,
    "editable": true
   },
   "source": [
    "## Code: Simple replace of chars"
   ]
  },
  {
   "cell_type": "code",
   "execution_count": 1,
   "metadata": {
    "collapsed": false,
    "deletable": true,
    "editable": true
   },
   "outputs": [],
   "source": [
    "class RemoveChars(object):\n",
    "    def remove_chars(self, string, chars):\n",
    "        if chars is None:\n",
    "            return False\n",
    "        sl = list(string)  # string list\n",
    "        cl = list(chars)  # chars list\n",
    "        newString = list(string)  # string to return\n",
    "        a = 0\n",
    "        for i in range(len(sl)):\n",
    "            for j in range(len(cl)):\n",
    "                if(sl[i] == cl[j]):\n",
    "                    newString.remove(sl[i])\n",
    "                    break\n",
    "        return ''.join(newString)\n"
   ]
  },
  {
   "cell_type": "markdown",
   "metadata": {
    "deletable": true,
    "editable": true
   },
   "source": [
    "## Unit Test"
   ]
  },
  {
   "cell_type": "code",
   "execution_count": 2,
   "metadata": {
    "collapsed": false,
    "deletable": true,
    "editable": true
   },
   "outputs": [
    {
     "name": "stdout",
     "output_type": "stream",
     "text": [
      "Success: test_remove_chars\n"
     ]
    }
   ],
   "source": [
    "# %load test_remove_chars.py\n",
    "from nose.tools import assert_equal\n",
    "\n",
    "\n",
    "class TestRemoveChars(object):\n",
    "    def test_remove_chars(self, string, func):\n",
    "        assert_equal(func(string, None), False)\n",
    "        assert_equal(func(string, ''), 'Python is great')\n",
    "        assert_equal(func(string, 'y'), 'Pthon is great')\n",
    "        assert_equal(func(string, 'tP'), 'yhon is grea')\n",
    "        print('Success: test_remove_chars')\n",
    "\n",
    "\n",
    "def main():\n",
    "    test = TestRemoveChars()\n",
    "    remove_chars = RemoveChars()\n",
    "    string = 'Python is great'\n",
    "    test.test_remove_chars(string, remove_chars.remove_chars)\n",
    "if __name__ == '__main__':\n",
    "    main()\n"
   ]
  },
  {
   "cell_type": "code",
   "execution_count": 3,
   "metadata": {
    "collapsed": false,
    "deletable": true,
    "editable": true,
    "scrolled": true
   },
   "outputs": [
    {
     "name": "stdout",
     "output_type": "stream",
     "text": [
      "Success: test_remove_chars\n"
     ]
    }
   ],
   "source": [
    "%run -i test_remove_chars.py"
   ]
  },
  {
   "cell_type": "code",
   "execution_count": null,
   "metadata": {
    "collapsed": true,
    "deletable": true,
    "editable": true
   },
   "outputs": [],
   "source": []
  }
 ],
 "metadata": {
  "kernelspec": {
   "display_name": "Python 2",
   "language": "python",
   "name": "python2"
  },
  "language_info": {
   "codemirror_mode": {
    "name": "ipython",
    "version": 2
   },
   "file_extension": ".py",
   "mimetype": "text/x-python",
   "name": "python",
   "nbconvert_exporter": "python",
   "pygments_lexer": "ipython2",
   "version": "2.7.12"
  }
 },
 "nbformat": 4,
 "nbformat_minor": 0
}
